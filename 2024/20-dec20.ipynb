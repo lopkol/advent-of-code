{
 "cells": [
  {
   "cell_type": "markdown",
   "id": "5ab9fd4f-f5a3-47ea-97d7-2193b5babbc8",
   "metadata": {},
   "source": [
    "## Problem 1"
   ]
  },
  {
   "cell_type": "code",
   "execution_count": 4,
   "id": "6d33ec25-16e6-4bfb-921e-6d742459784f",
   "metadata": {},
   "outputs": [],
   "source": [
    "def pretty_print_mtx(mtx, char_width=1):\n",
    "    for row in mtx:\n",
    "        str_row = list(map(lambda x: str(x).ljust(char_width), row))\n",
    "        print(''.join(str_row))"
   ]
  },
  {
   "cell_type": "code",
   "execution_count": 5,
   "id": "9a0fce61-c107-4ea8-bdf5-db9327fb8b8e",
   "metadata": {},
   "outputs": [],
   "source": [
    "def read_input(filename):\n",
    "    f = open(f'../inputs/{filename}.txt', 'r')\n",
    "\n",
    "    mtx= []\n",
    "    i = 0\n",
    "    while True:\n",
    "        line = f.readline()\n",
    "        if line == '':\n",
    "            break\n",
    "        row = list(line.strip())\n",
    "        mtx.append(row)\n",
    "        for j in range(len(row)):\n",
    "            if row[j] == 'S':\n",
    "                start_pos = (i, j)\n",
    "            elif row[j] == 'E':\n",
    "                end_pos = (i, j)\n",
    "        i += 1\n",
    "\n",
    "    f.close()\n",
    "    return (mtx, start_pos, end_pos)"
   ]
  },
  {
   "cell_type": "code",
   "execution_count": 6,
   "id": "f834d42e-e6be-4a94-83a9-eba430f12481",
   "metadata": {},
   "outputs": [],
   "source": [
    "neighbors = [\n",
    "    (0,1),\n",
    "    (1,0),\n",
    "    (0,-1),\n",
    "    (-1,0)\n",
    "]"
   ]
  },
  {
   "cell_type": "code",
   "execution_count": 7,
   "id": "e2c83530-1b77-445f-9597-bfdb3dea54c8",
   "metadata": {},
   "outputs": [],
   "source": [
    "def solve1(input_filename, min_cheat_value):\n",
    "    (mtx, start, end) = read_input(input_filename)\n",
    "    n, m = len(mtx), len(mtx[0])\n",
    "\n",
    "    big_cheats = []\n",
    "    (x, y) = start\n",
    "    i = 0\n",
    "    while True:\n",
    "        # fill current field\n",
    "        mtx[x][y] = i\n",
    "        i += 1\n",
    "\n",
    "        # find possible cheats arriving here\n",
    "        for v in neighbors:\n",
    "            if mtx[x+v[0]][y+v[1]] == '#':\n",
    "                for w in neighbors:\n",
    "                    if x+v[0]+w[0] >= 0 and \\\n",
    "                       x+v[0]+w[0] < n and \\\n",
    "                       y+v[1]+w[1] >= 0 and \\\n",
    "                       y+v[1]+w[1] < m and \\\n",
    "                       type(mtx[x+v[0]+w[0]][y+v[1]+w[1]]) == int and \\\n",
    "                       mtx[x][y] - mtx[x+v[0]+w[0]][y+v[1]+w[1]] >= min_cheat_value + 2:\n",
    "                        cheat_val = mtx[x][y] - mtx[x+v[0]+w[0]][y+v[1]+w[1]] - 2\n",
    "                        cheat_path = [(x+v[0]+w[0], y+v[1]+w[1]), (x+v[0], y+v[1]), (x, y)]\n",
    "                        big_cheats.append((cheat_val, cheat_path))\n",
    "\n",
    "        # stop if end\n",
    "        if (x,y) == end:\n",
    "            break\n",
    "        \n",
    "        # move\n",
    "        for v in neighbors:\n",
    "            if mtx[x+v[0]][y+v[1]] == '.':\n",
    "                new_x = x + v[0]\n",
    "                new_y = y + v[1]\n",
    "            elif mtx[x+v[0]][y+v[1]] == 'E':\n",
    "                new_x = x + v[0]\n",
    "                new_y = y + v[1]\n",
    "        x, y = new_x, new_y\n",
    "\n",
    "    return len(big_cheats)"
   ]
  },
  {
   "cell_type": "markdown",
   "id": "e37e7eac-f19f-4916-b8ab-09b20bf21eee",
   "metadata": {},
   "source": [
    "## Problem 2"
   ]
  },
  {
   "cell_type": "code",
   "execution_count": 8,
   "id": "5d6dec17-ce5e-4761-a490-faccbb2a3528",
   "metadata": {},
   "outputs": [],
   "source": [
    "def within_bounds(n, m, x, y):\n",
    "    return x >= 0 and x < n and y >= 0 and y < m\n",
    "\n",
    "def fields_in_circle(n, m, x, y, r):\n",
    "    fields = []\n",
    "    for d in range(1, r+1):\n",
    "        fields.extend([(x+d, y, d), (x-d, y, d), (x, y+d, d), (x, y-d, d)])\n",
    "        for i in range(1, d):\n",
    "            fields.extend([(x+i, y+d-i, d), (x+i, y-d+i, d), (x-i, y+d-i, d), (x-i, y-d+i, d)])\n",
    "    return list(filter(lambda p: within_bounds(n, m, p[0], p[1]), fields))"
   ]
  },
  {
   "cell_type": "code",
   "execution_count": 10,
   "id": "eb86b6b0-9f06-4ce4-94e7-c3f7fa1b75e5",
   "metadata": {},
   "outputs": [],
   "source": [
    "def solve2(input_filename, min_cheat_value, max_cheat_sec):\n",
    "    (mtx, start, end) = read_input(input_filename)\n",
    "    n, m = len(mtx), len(mtx[0])\n",
    "\n",
    "    big_cheats = []\n",
    "    (x, y) = start\n",
    "    i = 0\n",
    "    while True:\n",
    "        # fill current field\n",
    "        mtx[x][y] = i\n",
    "        i += 1\n",
    "\n",
    "        # find possible cheats arriving here\n",
    "        for p in fields_in_circle(n, m, x, y, max_cheat_sec):\n",
    "            if mtx[p[0]][p[1]] == '#':\n",
    "                continue\n",
    "            if type(mtx[p[0]][p[1]]) == int and mtx[x][y] - mtx[p[0]][p[1]] >= min_cheat_value + p[2]:\n",
    "                cheat_val = mtx[x][y] - mtx[p[0]][p[1]] - p[2]\n",
    "                cheat_path = [(p[0], p[1]), (x, y)]\n",
    "                big_cheats.append((cheat_val, cheat_path))\n",
    "\n",
    "        # stop if end\n",
    "        if (x,y) == end:\n",
    "            break\n",
    "        \n",
    "        # move\n",
    "        for v in neighbors:\n",
    "            if mtx[x+v[0]][y+v[1]] == '.':\n",
    "                new_x = x + v[0]\n",
    "                new_y = y + v[1]\n",
    "            elif mtx[x+v[0]][y+v[1]] == 'E':\n",
    "                new_x = x + v[0]\n",
    "                new_y = y + v[1]\n",
    "        x, y = new_x, new_y\n",
    "\n",
    "    return len(big_cheats)"
   ]
  }
 ],
 "metadata": {
  "kernelspec": {
   "display_name": "Python 3 (ipykernel)",
   "language": "python",
   "name": "python3"
  },
  "language_info": {
   "codemirror_mode": {
    "name": "ipython",
    "version": 3
   },
   "file_extension": ".py",
   "mimetype": "text/x-python",
   "name": "python",
   "nbconvert_exporter": "python",
   "pygments_lexer": "ipython3",
   "version": "3.10.12"
  }
 },
 "nbformat": 4,
 "nbformat_minor": 5
}

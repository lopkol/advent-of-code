{
 "cells": [
  {
   "cell_type": "markdown",
   "id": "b03e44ba-abcd-4ff4-8caa-5d03239c09b3",
   "metadata": {},
   "source": [
    "## Problem 1"
   ]
  },
  {
   "cell_type": "code",
   "execution_count": 8,
   "id": "879cc314-8c0d-4e3e-bc83-8d15b5965037",
   "metadata": {},
   "outputs": [],
   "source": [
    "def extract_data_from_line(line):\n",
    "    return list(map(lambda vect: (int(vect[0]), int(vect[1])), map(lambda x: x.split(','), line[2:].split(' v='))))\n",
    "\n",
    "def read_input(filename):\n",
    "    f = open(f'../inputs/{filename}.txt', 'r')\n",
    "\n",
    "    robots = []\n",
    "    while True:\n",
    "        line = f.readline()\n",
    "        if line == '':\n",
    "            break\n",
    "        [pos, vel] = extract_data_from_line(line)\n",
    "        robots.append((pos, vel))\n",
    "\n",
    "    f.close()\n",
    "    return robots"
   ]
  },
  {
   "cell_type": "code",
   "execution_count": 135,
   "id": "02d801a6-f170-427b-99fe-f4833697e0db",
   "metadata": {},
   "outputs": [],
   "source": [
    "# quadrant numbering:\n",
    "# 0 1\n",
    "# 2 3\n",
    "def quadrant(pos, room_size):\n",
    "    if pos[0] < (room_size[0]-1)/2 and pos[1] < (room_size[1]-1)/2:\n",
    "        return 0\n",
    "    if pos[0] > (room_size[0]-1)/2 and pos[1] < (room_size[1]-1)/2:\n",
    "        return 1\n",
    "    if pos[0] < (room_size[0]-1)/2 and pos[1] > (room_size[1]-1)/2:\n",
    "        return 2\n",
    "    if pos[0] > (room_size[0]-1)/2 and pos[1] > (room_size[1]-1)/2:\n",
    "        return 3\n",
    "    return None\n",
    "\n",
    "def new_position(pos, vel, seconds, room_size):\n",
    "    res = []\n",
    "    for i in range(2):\n",
    "        res.append((pos[i] + vel[i] * seconds) % room_size[i])\n",
    "    return (res[0], res[1])\n",
    "\n",
    "def solve1(input_filename, room_size, seconds):\n",
    "    robots = read_input(input_filename)\n",
    "    new_positions = list(map(lambda r: new_position(r[0], r[1], seconds, room_size), robots))\n",
    "    print(new_positions)\n",
    "    quad = [0, 0, 0, 0]\n",
    "    for pos in new_positions:\n",
    "        quad_pos = quadrant(pos, room_size)\n",
    "        if quad_pos != None:\n",
    "            quad[quad_pos] += 1\n",
    "\n",
    "    return quad[0]*quad[1]*quad[2]*quad[3]"
   ]
  },
  {
   "cell_type": "markdown",
   "id": "acc0b137-874a-45cb-b51b-eff3950d73c7",
   "metadata": {},
   "source": [
    "## Problem 2"
   ]
  },
  {
   "cell_type": "code",
   "execution_count": 72,
   "id": "97f44bed-d8f1-4893-86e3-8c127c96e79c",
   "metadata": {},
   "outputs": [],
   "source": [
    "import matplotlib.pyplot as plt"
   ]
  },
  {
   "cell_type": "code",
   "execution_count": 11,
   "id": "90cd48c3-1ae9-43e4-a8c0-b43298edc276",
   "metadata": {},
   "outputs": [],
   "source": [
    "def read_input2(filename):\n",
    "    f = open(f'../inputs/{filename}.txt', 'r')\n",
    "\n",
    "    xlist = []\n",
    "    ylist = []\n",
    "    velocities = []\n",
    "    while True:\n",
    "        line = f.readline()\n",
    "        if line == '':\n",
    "            break\n",
    "        [pos, vel] = extract_data_from_line(line)\n",
    "        xlist.append(pos[0])\n",
    "        ylist.append(pos[1])\n",
    "        velocities.append(vel)\n",
    "\n",
    "    f.close()\n",
    "    return (xlist, ylist, velocities)"
   ]
  },
  {
   "cell_type": "code",
   "execution_count": 143,
   "id": "1e53ea94-0513-46f1-b598-ae097c9eca37",
   "metadata": {},
   "outputs": [],
   "source": [
    "def positions_after_seconds(xlist, ylist, velocities, seconds, room_size):\n",
    "    new_xlist, new_ylist = [], []\n",
    "    for i in range(len(xlist)):\n",
    "        new_xlist.append((xlist[i] + velocities[i][0] * seconds) % room_size[0])\n",
    "    for j in range(len(ylist)):\n",
    "        new_ylist.append((ylist[j] + velocities[j][1] * seconds) % room_size[1])\n",
    "    return (new_xlist, new_ylist)"
   ]
  },
  {
   "cell_type": "code",
   "execution_count": 179,
   "id": "b67201ff-35fe-4c94-9332-30bec8a92c98",
   "metadata": {},
   "outputs": [],
   "source": [
    "def plot_positions(input_filename, room_size, sec):\n",
    "    (xlist, ylist, velocities) = read_input2(input_filename)\n",
    "    (xlist, ylist) = positions_after_seconds(xlist, ylist, velocities, sec, room_size)\n",
    "    \n",
    "    fig, ax = plt.subplots()\n",
    "    ax.plot(xlist, ylist, c='g', marker='s', ls='')\n",
    "    ax.set_xlim(-1, room_size[0]+1)\n",
    "    ax.set_ylim(room_size[1]+1, -1)\n",
    "    ax.set_xticks([])\n",
    "    ax.set_yticks([])\n",
    "    plt.show()"
   ]
  },
  {
   "cell_type": "code",
   "execution_count": 172,
   "id": "c805f214-dbe2-4317-a51c-c641190f2475",
   "metadata": {},
   "outputs": [],
   "source": [
    "from PIL import Image, ImageFilter\n",
    "\n",
    "def create_animation(input_filename, room_size, sec_start, sec_end, step_size):\n",
    "    (xlist, ylist, velocities) = read_input2(input_filename)\n",
    "\n",
    "    sec = sec_start\n",
    "    if sec > 0:\n",
    "        (xlist, ylist) = positions_after_seconds(xlist, ylist, velocities, sec, room_size)\n",
    "\n",
    "    fig, ax = plt.subplots()\n",
    "    sp, = ax.plot([], [], c='g', marker='s', ls='')\n",
    "    ax.set_xlim(-1, room_size[0]+1)\n",
    "    ax.set_ylim(room_size[1]+1, -1)\n",
    "    ax.set_xticks([])\n",
    "    ax.set_yticks([])\n",
    "\n",
    "    while sec < sec_end:\n",
    "        sp.set_data(xlist, ylist)\n",
    "        ax.set_title(f'Seconds:{sec}')\n",
    "        plt.savefig(f'../figures/anim_{input_filename}_{sec}')\n",
    "\n",
    "        (xlist, ylist) = positions_after_seconds(xlist, ylist, velocities, step_size, room_size)\n",
    "        sec += step_size\n",
    "\n",
    "    images = []\n",
    "    for sec in range(sec_start, sec_end, step_size):\n",
    "        exec('img'+str(sec)+'=Image.open(\"'+f'../figures/anim_{input_filename}_{sec}'+'.png\")')\n",
    "        images.append(eval('img'+str(sec)))\n",
    "    images[0].save(f'../figures/anim__{input_filename}_{sec_start}_{sec_end}_{step_size}.gif', save_all=True, append_images=images[1:], duration=500, loop=1)\n"
   ]
  }
 ],
 "metadata": {
  "kernelspec": {
   "display_name": "Python 3 (ipykernel)",
   "language": "python",
   "name": "python3"
  },
  "language_info": {
   "codemirror_mode": {
    "name": "ipython",
    "version": 3
   },
   "file_extension": ".py",
   "mimetype": "text/x-python",
   "name": "python",
   "nbconvert_exporter": "python",
   "pygments_lexer": "ipython3",
   "version": "3.10.12"
  }
 },
 "nbformat": 4,
 "nbformat_minor": 5
}

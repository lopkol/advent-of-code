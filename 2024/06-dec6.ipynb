{
 "cells": [
  {
   "cell_type": "markdown",
   "id": "12b5dac7-fd0d-4920-aa4d-e1d544647f02",
   "metadata": {},
   "source": [
    "## Problem 1"
   ]
  },
  {
   "cell_type": "code",
   "execution_count": 1,
   "id": "f4b951e3-3601-4d36-862a-bb1123172a59",
   "metadata": {},
   "outputs": [],
   "source": [
    "def read_input(filename):\n",
    "    f = open(f'../inputs/{filename}.txt', 'r')\n",
    "    mtx = []\n",
    "    while True:\n",
    "        line = f.readline()\n",
    "        if line == \"\":\n",
    "            break\n",
    "        mtx.append(list(line.rstrip('\\n')))\n",
    "    f.close()\n",
    "    return mtx"
   ]
  },
  {
   "cell_type": "code",
   "execution_count": 2,
   "id": "7e6d4b10-fd49-4a46-8579-7cfafa201e24",
   "metadata": {},
   "outputs": [],
   "source": [
    "rotate = {\n",
    "    '>': 'v',\n",
    "    '^': '>',\n",
    "    '<': '^',\n",
    "    'v': '<'\n",
    "}\n",
    "\n",
    "def next_pos(guard_char, x, y):\n",
    "    if guard_char == '>':\n",
    "        return (x, y+1)\n",
    "    if guard_char == '^':\n",
    "        return (x-1, y)\n",
    "    if guard_char == '<':\n",
    "        return (x, y-1)\n",
    "    if guard_char == 'v':\n",
    "        return (x+1, y)\n",
    "    raise Exception('Invalid char for guard')\n",
    "\n",
    "# update guard pos, return (-1, -1) if guard left the room, position tuple otherwise\n",
    "def take_step(mtx, x, y):\n",
    "    n, m = len(mtx), len(mtx[0])\n",
    "    \n",
    "    guard_char = mtx[x][y]\n",
    "    (i, j) = next_pos(guard_char, x, y)\n",
    "    if i < 0 or i >= n or j < 0 or j >= m:\n",
    "        mtx[x][y] = 'X'\n",
    "        return (-1, -1)\n",
    "\n",
    "    if mtx[i][j] == '#':\n",
    "        mtx[x][y] = rotate[guard_char]\n",
    "        return (x, y)\n",
    "\n",
    "    mtx[x][y] = 'X'\n",
    "    mtx[i][j] = guard_char\n",
    "    return (i,j)"
   ]
  },
  {
   "cell_type": "code",
   "execution_count": 3,
   "id": "ea8afcfa-b6aa-4bfb-bbfa-1ba9e07eb6ac",
   "metadata": {},
   "outputs": [],
   "source": [
    "def count_visited(mtx):\n",
    "    n, m = len(mtx), len(mtx[0])\n",
    "    count = 0\n",
    "    for i in range(n):\n",
    "        for j in range(m):\n",
    "            if mtx[i][j] == 'X':\n",
    "                count += 1\n",
    "    return count"
   ]
  },
  {
   "cell_type": "code",
   "execution_count": 4,
   "id": "92a75b03-2861-40c6-ae3d-77d82829f804",
   "metadata": {},
   "outputs": [],
   "source": [
    "def solve1(input_filename):\n",
    "    mtx = read_input(input_filename)\n",
    "\n",
    "    n, m = len(mtx), len(mtx[0])\n",
    "    x, y = -1, -1\n",
    "    for i in range(n):\n",
    "        for j in range(m):\n",
    "            if mtx[i][j] in ['>', '^', '<', 'v']:\n",
    "                x, y = i, j\n",
    "                break\n",
    "        if x != -1:\n",
    "            break\n",
    "\n",
    "    # I know this is infinite if the guard ends up in a loop, so I'm gonna leave it here to annoy you :P\n",
    "    while True:\n",
    "        (x, y) = take_step(mtx, x, y)\n",
    "        if x == -1:\n",
    "            break\n",
    "\n",
    "    return count_visited(mtx)"
   ]
  },
  {
   "cell_type": "markdown",
   "id": "6a69e1fc-6b09-4a64-ac15-4a16b63bb9f7",
   "metadata": {},
   "source": [
    "## Problem 2"
   ]
  },
  {
   "cell_type": "code",
   "execution_count": 19,
   "id": "b4d25480-83f3-4e2f-818e-ce0739ca2a96",
   "metadata": {},
   "outputs": [],
   "source": [
    "visited = {\n",
    "    '>': 'R',\n",
    "    '^': 'U',\n",
    "    '<': 'L',\n",
    "    'v': 'D'\n",
    "}\n",
    "\n",
    "# save directions of the guard on the visited positions\n",
    "def take_step2(mtx, x, y, direction):\n",
    "    n, m = len(mtx), len(mtx[0])\n",
    "    \n",
    "    (i, j) = next_pos(direction, x, y)\n",
    "    if i < 0 or i >= n or j < 0 or j >= m:\n",
    "        mtx[x][y] += visited[direction]\n",
    "        return (-1, -1, '', False)\n",
    "\n",
    "    if mtx[i][j] in ['#', 'O']:\n",
    "        mtx[x][y] += visited[direction]\n",
    "        return (x, y, rotate[direction], False)\n",
    "\n",
    "    in_loop = False\n",
    "    if visited[direction] in mtx[i][j]:\n",
    "        in_loop = True\n",
    "    mtx[x][y] += visited[direction]\n",
    "    return (i,j, direction, in_loop)"
   ]
  },
  {
   "cell_type": "code",
   "execution_count": 20,
   "id": "655c1060-85f4-4aab-9b51-7ae14bc1fc0b",
   "metadata": {},
   "outputs": [],
   "source": [
    "def copy_mtx(mtx):\n",
    "    mtx_copy = []\n",
    "    for i in range(len(mtx)):\n",
    "        mtx_copy.append(mtx[i].copy())\n",
    "    return mtx_copy\n",
    "\n",
    "# True if loop, False if guard leaves\n",
    "def test_obstacle_pos(mtx, start_x, start_y, obs_x, obs_y):\n",
    "    mtx_copy = copy_mtx(mtx)\n",
    "    mtx_copy[obs_x][obs_y] = 'O'\n",
    "    x, y = start_x, start_y\n",
    "    direction = mtx[x][y]\n",
    "    while True:\n",
    "        (x, y, direction, in_loop) = take_step2(mtx_copy, x, y, direction)\n",
    "        if in_loop:\n",
    "            return True\n",
    "        if x == -1:\n",
    "            return False"
   ]
  },
  {
   "cell_type": "code",
   "execution_count": 24,
   "id": "07066765-1ae7-4d31-bdea-1c7c9e52166e",
   "metadata": {},
   "outputs": [],
   "source": [
    "def solve2(input_filename):\n",
    "    mtx = read_input(input_filename)\n",
    "\n",
    "    n, m = len(mtx), len(mtx[0])\n",
    "    x, y = -1, -1\n",
    "    for i in range(n):\n",
    "        for j in range(m):\n",
    "            if mtx[i][j] in ['>', '^', '<', 'v']:\n",
    "                x, y = i, j\n",
    "                break\n",
    "        if x != -1:\n",
    "            break\n",
    "    # save starting pos\n",
    "    start_x, start_y = x, y\n",
    "\n",
    "    mtx_copy = copy_mtx(mtx)\n",
    "    while True:\n",
    "        (x, y) = take_step(mtx_copy, x, y)\n",
    "        if x == -1:\n",
    "            break\n",
    "\n",
    "    # this is really not optimal :D\n",
    "    count = 0\n",
    "    for i in range(n):\n",
    "        for j in range(m):\n",
    "            if (i,j) != (start_x, start_y) and mtx_copy[i][j] == 'X' and test_obstacle_pos(mtx, start_x, start_y, i, j):\n",
    "                count += 1\n",
    "\n",
    "    return count"
   ]
  }
 ],
 "metadata": {
  "kernelspec": {
   "display_name": "Python 3 (ipykernel)",
   "language": "python",
   "name": "python3"
  },
  "language_info": {
   "codemirror_mode": {
    "name": "ipython",
    "version": 3
   },
   "file_extension": ".py",
   "mimetype": "text/x-python",
   "name": "python",
   "nbconvert_exporter": "python",
   "pygments_lexer": "ipython3",
   "version": "3.8.10"
  }
 },
 "nbformat": 4,
 "nbformat_minor": 5
}

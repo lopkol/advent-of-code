{
 "cells": [
  {
   "cell_type": "markdown",
   "id": "e6cd97a5-b8e7-481d-b6b5-44fe3ca2340c",
   "metadata": {},
   "source": [
    "## Problem 1"
   ]
  },
  {
   "cell_type": "code",
   "execution_count": 4,
   "id": "6373ff35-98cd-44d4-9b62-c22397a478fc",
   "metadata": {},
   "outputs": [],
   "source": [
    "def read_input(filename):\n",
    "    f = open(f'../inputs/{filename}.txt', 'r')\n",
    "    list1 = []\n",
    "    list2 = []\n",
    "    while True:\n",
    "        line = f.readline()\n",
    "        if line == \"\":\n",
    "            break\n",
    "        list = line.split()\n",
    "        list1.append(int(list[0]))\n",
    "        list2.append(int(list[1]))\n",
    "    f.close()\n",
    "    return (list1, list2)"
   ]
  },
  {
   "cell_type": "code",
   "execution_count": 5,
   "id": "58ebee3c-fd62-40d3-bb9d-0525e6ddd3f1",
   "metadata": {},
   "outputs": [],
   "source": [
    "def solve(input_filename):\n",
    "    (list1, list2) = read_input(input_filename)\n",
    "    list1.sort()\n",
    "    list2.sort()\n",
    "    sum = 0\n",
    "    i = 0\n",
    "    while i < len(list1):\n",
    "        sum += abs(list1[i] - list2[i])\n",
    "        i += 1\n",
    "    return sum"
   ]
  },
  {
   "cell_type": "markdown",
   "id": "f0148e60-807c-49b8-9e4e-7e9358cc557b",
   "metadata": {},
   "source": [
    "## Problem 2"
   ]
  },
  {
   "cell_type": "code",
   "execution_count": 10,
   "id": "e3556bd0-e393-4203-b877-097b56cd7ed2",
   "metadata": {},
   "outputs": [],
   "source": [
    "def create_hashmap(arr):\n",
    "    hashmap = {}\n",
    "    for x in arr:\n",
    "        if not x in hashmap:\n",
    "            hashmap[x] = 0\n",
    "        hashmap[x] += 1\n",
    "    return hashmap"
   ]
  },
  {
   "cell_type": "code",
   "execution_count": 12,
   "id": "0561e804-04a8-4ecf-9c0a-9c2c76362138",
   "metadata": {},
   "outputs": [],
   "source": [
    "def solve(input_filename):\n",
    "    (list1, list2) = read_input(input_filename)\n",
    "    hashmap1 = create_hashmap(list1)\n",
    "    hashmap2 = create_hashmap(list2)\n",
    "    sim_score = 0\n",
    "    for val in hashmap1:\n",
    "        if val in hashmap2:\n",
    "            sim_score += val * hashmap1[val] * hashmap2[val]\n",
    "    return sim_score"
   ]
  }
 ],
 "metadata": {
  "kernelspec": {
   "display_name": "Python 3 (ipykernel)",
   "language": "python",
   "name": "python3"
  },
  "language_info": {
   "codemirror_mode": {
    "name": "ipython",
    "version": 3
   },
   "file_extension": ".py",
   "mimetype": "text/x-python",
   "name": "python",
   "nbconvert_exporter": "python",
   "pygments_lexer": "ipython3",
   "version": "3.10.12"
  }
 },
 "nbformat": 4,
 "nbformat_minor": 5
}

{
 "cells": [
  {
   "cell_type": "markdown",
   "id": "01d92c9a-ed65-4d78-b75f-aa723f3989f8",
   "metadata": {},
   "source": [
    "## Problem 1"
   ]
  },
  {
   "cell_type": "code",
   "execution_count": 2,
   "id": "a67d47de-affb-4aa0-b38d-ac6caf1c1ec7",
   "metadata": {},
   "outputs": [],
   "source": [
    "def read_input(filename):\n",
    "    f = open(f'../inputs/{filename}.txt', 'r')\n",
    "    line = f.readline()\n",
    "    f.close()\n",
    "    return line"
   ]
  },
  {
   "cell_type": "code",
   "execution_count": 5,
   "id": "4346edf8-0a69-43b2-b06a-1000bd3e510b",
   "metadata": {},
   "outputs": [],
   "source": [
    "def convert_disk_map_to_files(disk_map):\n",
    "    files = []\n",
    "    for i in range(len(disk_map)):\n",
    "        if i % 2 == 0:\n",
    "            for j in range(int(disk_map[i])):\n",
    "                files.append(int(i/2))\n",
    "        else:\n",
    "            for j in range(int(disk_map[i])):\n",
    "                files.append('.')\n",
    "    return files"
   ]
  },
  {
   "cell_type": "code",
   "execution_count": 8,
   "id": "00bff1e6-b5b6-40ff-a3d6-51e4ffaafe2d",
   "metadata": {},
   "outputs": [],
   "source": [
    "def solve1(input_filename):\n",
    "    disk_map = read_input(input_filename)\n",
    "    files = convert_disk_map_to_files(disk_map)\n",
    "\n",
    "    checksum = 0\n",
    "    i, j = 0, len(files)-1\n",
    "    while i <= j:\n",
    "        if files[i] != '.':\n",
    "            checksum += i * files[i]\n",
    "            i += 1\n",
    "        elif files[j] != '.':\n",
    "            files[i] = files[j]\n",
    "            files[j] = '.'\n",
    "            j -= 1\n",
    "        else:\n",
    "            j -= 1\n",
    "    return checksum"
   ]
  },
  {
   "cell_type": "markdown",
   "id": "91b805c3-398c-401c-af7c-1f198d36f506",
   "metadata": {},
   "source": [
    "## Problem 2"
   ]
  },
  {
   "cell_type": "code",
   "execution_count": 10,
   "id": "7d27f8fb-7729-4604-9820-d00d2fda2035",
   "metadata": {},
   "outputs": [],
   "source": [
    "def convert_disk_map_to_files2(disk_map):\n",
    "    disk = []\n",
    "    files = []\n",
    "    empty_space = []\n",
    "    for i in range(len(disk_map)):\n",
    "        if i % 2 == 0:\n",
    "            files.append({ 'start': len(disk), 'length': int(disk_map[i]) })\n",
    "            for j in range(int(disk_map[i])):\n",
    "                disk.append(int(i/2))\n",
    "        else:\n",
    "            empty_space.append({ 'start': len(disk), 'length': int(disk_map[i]) })\n",
    "            for j in range(int(disk_map[i])):\n",
    "                disk.append('.')\n",
    "    return (disk, files, empty_space)"
   ]
  },
  {
   "cell_type": "code",
   "execution_count": 34,
   "id": "72b50995-2bb9-417d-b010-73da42d2e583",
   "metadata": {},
   "outputs": [],
   "source": [
    "def solve2(input_filename):\n",
    "    disk_map = read_input(input_filename)\n",
    "    (disk, files, empty_space) = convert_disk_map_to_files2(disk_map)\n",
    "\n",
    "    i = len(files)-1\n",
    "    while i > 0:\n",
    "        file = files[i]\n",
    "        \n",
    "        j = 0\n",
    "        while j < len(empty_space) and empty_space[j]['length'] < file['length']:\n",
    "            j += 1\n",
    "        if j < len(empty_space):\n",
    "            empty = empty_space[j]\n",
    "            if empty['start'] < file['start']:\n",
    "                for k in range(empty['start'], empty['start'] + file['length']):\n",
    "                    disk[k] = i\n",
    "                for k in range(file['start'], file['start'] + file['length']):\n",
    "                    disk[k] = '.'\n",
    "                empty_space[j] = { 'start': empty['start'] + file['length'] , 'length': empty['length'] - file['length'] }\n",
    "        i -= 1\n",
    "\n",
    "    checksum = 0\n",
    "    for i in range(len(disk)):\n",
    "        if disk[i] != '.':\n",
    "            checksum += i * disk[i]\n",
    "\n",
    "    return checksum"
   ]
  }
 ],
 "metadata": {
  "kernelspec": {
   "display_name": "Python 3 (ipykernel)",
   "language": "python",
   "name": "python3"
  },
  "language_info": {
   "codemirror_mode": {
    "name": "ipython",
    "version": 3
   },
   "file_extension": ".py",
   "mimetype": "text/x-python",
   "name": "python",
   "nbconvert_exporter": "python",
   "pygments_lexer": "ipython3",
   "version": "3.8.10"
  }
 },
 "nbformat": 4,
 "nbformat_minor": 5
}

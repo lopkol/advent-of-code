{
 "cells": [
  {
   "cell_type": "markdown",
   "id": "6d61da3c-35e8-4faf-913d-71edacd5a2c4",
   "metadata": {},
   "source": [
    "## Problem 1 + 2"
   ]
  },
  {
   "cell_type": "code",
   "execution_count": 37,
   "id": "7b274765-34fe-4f14-b034-6552c0350a34",
   "metadata": {},
   "outputs": [],
   "source": [
    "def read_input(filename):\n",
    "    f = open(f'../inputs/{filename}.txt', 'r')\n",
    "    line = f.readline()\n",
    "    stones = []\n",
    "    for i in range(len(line.split())):\n",
    "        stones.append(int(line.split()[i]))\n",
    "    f.close()\n",
    "    return stones"
   ]
  },
  {
   "cell_type": "code",
   "execution_count": 29,
   "id": "e2b660dc-da9c-42dc-9a9b-7f3589c22f4e",
   "metadata": {},
   "outputs": [],
   "source": [
    "def cut_even_num(num):\n",
    "    str_num = str(num)\n",
    "    n = len(str_num)\n",
    "    return [int(str_num[:int(n/2)]), int(str_num[int(n/2):])]\n",
    "\n",
    "def next_stones(num):\n",
    "    if num == 0:\n",
    "        return [1]\n",
    "    if len(str(num)) % 2 == 0:\n",
    "        return cut_even_num(num)\n",
    "    return [num * 2024]\n",
    "\n",
    "def stones_after_blinks_rec(num, blinks, memo):\n",
    "    if blinks == 0:\n",
    "        memo[num] = { 0: 1 }\n",
    "        return 1\n",
    "    \n",
    "    if num in memo and blinks in memo[num]:\n",
    "        return memo[num][blinks]\n",
    "    ans = 0\n",
    "    for new_num in next_stones(num):\n",
    "        ans += stones_after_blinks_rec(new_num, blinks-1, memo)\n",
    "    if num not in memo:\n",
    "        memo[num] = { 0: 1 }\n",
    "    memo[num][blinks] = ans\n",
    "    return ans"
   ]
  },
  {
   "cell_type": "code",
   "execution_count": 30,
   "id": "17b9ea08-ac17-406c-b957-c0e07363f88f",
   "metadata": {},
   "outputs": [],
   "source": [
    "def solve(input_filename, blinks):\n",
    "    stones = read_input(input_filename)\n",
    "\n",
    "    memo = {}\n",
    "    ans = 0\n",
    "    for st in stones:\n",
    "        ans += stones_after_blinks_rec(st, blinks, memo)\n",
    "    return ans "
   ]
  }
 ],
 "metadata": {
  "kernelspec": {
   "display_name": "Python 3 (ipykernel)",
   "language": "python",
   "name": "python3"
  },
  "language_info": {
   "codemirror_mode": {
    "name": "ipython",
    "version": 3
   },
   "file_extension": ".py",
   "mimetype": "text/x-python",
   "name": "python",
   "nbconvert_exporter": "python",
   "pygments_lexer": "ipython3",
   "version": "3.10.12"
  }
 },
 "nbformat": 4,
 "nbformat_minor": 5
}

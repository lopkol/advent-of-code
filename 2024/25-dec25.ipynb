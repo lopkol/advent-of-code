{
 "cells": [
  {
   "cell_type": "markdown",
   "id": "6deff17e-1d30-4440-952d-9ec537c1ee58",
   "metadata": {},
   "source": [
    "## Problem 1"
   ]
  },
  {
   "cell_type": "code",
   "execution_count": 5,
   "id": "585d6217-ace8-4a53-a1bb-5ba060af6f26",
   "metadata": {},
   "outputs": [],
   "source": [
    "def add_pattern(pattern, keys, locks):\n",
    "    numbers = []\n",
    "    for j in range(len(pattern[0])):\n",
    "        count = 0\n",
    "        for i in range(len(pattern)):\n",
    "            if pattern[i][j] == '#':\n",
    "                count += 1\n",
    "        numbers.append(count-1)\n",
    "    if pattern[0][0] == '#':\n",
    "        locks.append(numbers)\n",
    "    else:\n",
    "        keys.append(numbers)\n",
    "\n",
    "def read_input(filename):\n",
    "    f = open(f'../inputs/{filename}.txt', 'r')\n",
    "\n",
    "    keys = []\n",
    "    locks = []\n",
    "    current_pattern = []\n",
    "    while True:\n",
    "        line = f.readline()\n",
    "        if line == '':\n",
    "            add_pattern(current_pattern, keys, locks)\n",
    "            break\n",
    "        if line == '\\n':\n",
    "            add_pattern(current_pattern, keys, locks)\n",
    "            current_pattern = []\n",
    "            continue\n",
    "        current_pattern.append(line.strip())\n",
    "\n",
    "    f.close()\n",
    "    return (keys, locks)"
   ]
  },
  {
   "cell_type": "code",
   "execution_count": 8,
   "id": "a635c038-2d39-4b38-96c4-2bfb7fde31f7",
   "metadata": {},
   "outputs": [],
   "source": [
    "def fit_together(key, lock):\n",
    "    for i in range(len(key)):\n",
    "        if key[i] + lock[i] > 5:\n",
    "            return False\n",
    "    return True\n",
    "\n",
    "def solve1(input_filename):\n",
    "    (keys, locks) = read_input(input_filename)\n",
    "\n",
    "    count = 0\n",
    "    for key in keys:\n",
    "        for lock in locks:\n",
    "            if fit_together(key, lock):\n",
    "                count += 1\n",
    "    return count"
   ]
  }
 ],
 "metadata": {
  "kernelspec": {
   "display_name": "Python 3 (ipykernel)",
   "language": "python",
   "name": "python3"
  },
  "language_info": {
   "codemirror_mode": {
    "name": "ipython",
    "version": 3
   },
   "file_extension": ".py",
   "mimetype": "text/x-python",
   "name": "python",
   "nbconvert_exporter": "python",
   "pygments_lexer": "ipython3",
   "version": "3.8.10"
  }
 },
 "nbformat": 4,
 "nbformat_minor": 5
}

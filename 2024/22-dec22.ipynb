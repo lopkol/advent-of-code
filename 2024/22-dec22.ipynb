{
 "cells": [
  {
   "cell_type": "markdown",
   "id": "686ed6b7-9ff5-4bd7-af11-64295a2dbebb",
   "metadata": {},
   "source": [
    "## Problem 1"
   ]
  },
  {
   "cell_type": "code",
   "execution_count": 2,
   "id": "b338e39d-2c87-4044-a47f-5dff845592cb",
   "metadata": {},
   "outputs": [],
   "source": [
    "def read_input(filename):\n",
    "    f = open(f'../inputs/{filename}.txt', 'r')\n",
    "\n",
    "    numbers = []\n",
    "    while True:\n",
    "        line = f.readline()\n",
    "        if line == '':\n",
    "            break\n",
    "        numbers.append(int(line))\n",
    "\n",
    "    f.close()\n",
    "    return numbers"
   ]
  },
  {
   "cell_type": "code",
   "execution_count": 7,
   "id": "3a099c69-f7b7-4bec-8621-aa8a688a5fb9",
   "metadata": {},
   "outputs": [],
   "source": [
    "mod = pow(2, 24)\n",
    "\n",
    "def mix(secret, x):\n",
    "    return secret ^ x\n",
    "\n",
    "def prune(secret):\n",
    "    return secret & (mod-1)\n",
    "\n",
    "def new_secret(secret):\n",
    "    res = secret\n",
    "    res = prune(mix(res, res << 6))\n",
    "    res = prune(mix(res, res >> 5))\n",
    "    res = prune(mix(res, res << 11))\n",
    "    return res"
   ]
  },
  {
   "cell_type": "code",
   "execution_count": 17,
   "id": "4b3106c7-def3-4e91-8677-e5690fbc1930",
   "metadata": {},
   "outputs": [],
   "source": [
    "def solve1(input_filename):\n",
    "    numbers = read_input(input_filename)\n",
    "\n",
    "    res = 0\n",
    "    for num in numbers:\n",
    "        for i in range(2000):\n",
    "            num = new_secret(num)\n",
    "        res += num\n",
    "    return res"
   ]
  },
  {
   "cell_type": "markdown",
   "id": "ad2d1d4e-e7ad-4e84-a4bc-49541098e237",
   "metadata": {},
   "source": [
    "## Problem 2"
   ]
  },
  {
   "cell_type": "code",
   "execution_count": 18,
   "id": "8931b9ad-8f63-4a18-9312-1687efd2db3e",
   "metadata": {},
   "outputs": [],
   "source": [
    "def solve2(input_filename):\n",
    "    numbers = read_input(input_filename)\n",
    "\n",
    "    change_seq_seen = set()\n",
    "    change_seq_banana_sum = {}\n",
    "    max_bananas = 0\n",
    "    for n in range(len(numbers)):\n",
    "        num = numbers[n]\n",
    "        changes = []\n",
    "        prev_bananas = num % 10\n",
    "        for i in range(2000):\n",
    "            num = new_secret(num)\n",
    "            new_bananas = num % 10\n",
    "            changes.append(new_bananas - prev_bananas)\n",
    "            prev_bananas = new_bananas\n",
    "\n",
    "            if len(changes) >= 4:\n",
    "                change_seq = (changes[-4], changes[-3], changes[-2], changes[-1])\n",
    "                if (change_seq, n) not in change_seq_seen:\n",
    "                    change_seq_seen.add((change_seq, n))\n",
    "                    if change_seq not in change_seq_banana_sum:\n",
    "                        change_seq_banana_sum[change_seq] = 0\n",
    "                    change_seq_banana_sum[change_seq] += new_bananas\n",
    "                    if change_seq_banana_sum[change_seq] > max_bananas:\n",
    "                        max_bananas = change_seq_banana_sum[change_seq]\n",
    "    return max_bananas"
   ]
  }
 ],
 "metadata": {
  "kernelspec": {
   "display_name": "Python 3 (ipykernel)",
   "language": "python",
   "name": "python3"
  },
  "language_info": {
   "codemirror_mode": {
    "name": "ipython",
    "version": 3
   },
   "file_extension": ".py",
   "mimetype": "text/x-python",
   "name": "python",
   "nbconvert_exporter": "python",
   "pygments_lexer": "ipython3",
   "version": "3.10.12"
  }
 },
 "nbformat": 4,
 "nbformat_minor": 5
}

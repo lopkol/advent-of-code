{
 "cells": [
  {
   "cell_type": "markdown",
   "id": "daf6b2ea-3906-4566-b496-11ee44b08579",
   "metadata": {},
   "source": [
    "## Problem 1"
   ]
  },
  {
   "cell_type": "code",
   "execution_count": 4,
   "id": "083b481a-e6db-443d-95b7-6cae0cc8957b",
   "metadata": {},
   "outputs": [],
   "source": [
    "def read_input(filename):\n",
    "    f = open(f'../inputs/{filename}.txt', 'r')\n",
    "    mtx = []\n",
    "    numbers = [[] for i in range(10)]\n",
    "    line_idx = 0\n",
    "    while True:\n",
    "        line = f.readline()\n",
    "        if line == '':\n",
    "            break\n",
    "        mtx_row = []\n",
    "        for i in range(len(line.strip())):\n",
    "            num = int(line[i])\n",
    "            numbers[num].append((line_idx, i))\n",
    "            mtx_row.append(num)\n",
    "        mtx.append(mtx_row)\n",
    "        line_idx += 1\n",
    "\n",
    "    f.close()\n",
    "    return (mtx, numbers)"
   ]
  },
  {
   "cell_type": "code",
   "execution_count": 42,
   "id": "279c6188-b7b4-4a28-828b-0d303c0196de",
   "metadata": {},
   "outputs": [],
   "source": [
    "def neighbors(loc, n, m):\n",
    "    neighbor_list = [(loc[0]-1, loc[1]), (loc[0]+1, loc[1]), (loc[0], loc[1]-1), (loc[0], loc[1]+1)]\n",
    "    res = []\n",
    "    for x in neighbor_list:\n",
    "        (i, j) = x\n",
    "        if i >= 0 and i < n and j >= 0 and j < m:\n",
    "            res.append(x)\n",
    "    return res"
   ]
  },
  {
   "cell_type": "code",
   "execution_count": 53,
   "id": "758231f5-3020-42ad-8ba3-d606e4613e00",
   "metadata": {},
   "outputs": [],
   "source": [
    "def solve1(input_filename):\n",
    "    (mtx, numbers) = read_input(input_filename)\n",
    "    n, m = len(mtx), len(mtx[0])\n",
    "\n",
    "    reachable_nines = [[{} for i in range(m)] for i in range(n)]\n",
    "\n",
    "    for loc in numbers[9]:\n",
    "        reachable_nines[loc[0]][loc[1]][loc] = True\n",
    "\n",
    "    ans = 0\n",
    "    for num in range(8, -1, -1):\n",
    "        for loc in numbers[num]:\n",
    "            for neighbor in neighbors(loc, n, m):\n",
    "                if mtx[neighbor[0]][neighbor[1]] == num + 1:\n",
    "                    reachable_nines[loc[0]][loc[1]].update(reachable_nines[neighbor[0]][neighbor[1]])\n",
    "            if num == 0:\n",
    "                ans += len(reachable_nines[loc[0]][loc[1]])\n",
    "    \n",
    "    return ans"
   ]
  },
  {
   "cell_type": "markdown",
   "id": "a56f1afd-13b9-4bd7-ac38-15e355971753",
   "metadata": {},
   "source": [
    "## Problem 2"
   ]
  },
  {
   "cell_type": "code",
   "execution_count": 64,
   "id": "fc09de27-2ab0-4113-aebe-19ac3236db6e",
   "metadata": {},
   "outputs": [],
   "source": [
    "def solve2(input_filename):\n",
    "    (mtx, numbers) = read_input(input_filename)\n",
    "    n, m = len(mtx), len(mtx[0])\n",
    "\n",
    "    routes_to_nines = [[0 for i in range(m)] for i in range(n)]\n",
    "\n",
    "    for loc in numbers[9]:\n",
    "        routes_to_nines[loc[0]][loc[1]] = 1\n",
    "\n",
    "    ans = 0\n",
    "    for num in range(8, -1, -1):\n",
    "        for loc in numbers[num]:\n",
    "            for neighbor in neighbors(loc, n, m):\n",
    "                if mtx[neighbor[0]][neighbor[1]] == num + 1:\n",
    "                    routes_to_nines[loc[0]][loc[1]] += routes_to_nines[neighbor[0]][neighbor[1]]\n",
    "            if num == 0:\n",
    "                ans += routes_to_nines[loc[0]][loc[1]]\n",
    "    \n",
    "    return ans"
   ]
  }
 ],
 "metadata": {
  "kernelspec": {
   "display_name": "Python 3 (ipykernel)",
   "language": "python",
   "name": "python3"
  },
  "language_info": {
   "codemirror_mode": {
    "name": "ipython",
    "version": 3
   },
   "file_extension": ".py",
   "mimetype": "text/x-python",
   "name": "python",
   "nbconvert_exporter": "python",
   "pygments_lexer": "ipython3",
   "version": "3.10.12"
  }
 },
 "nbformat": 4,
 "nbformat_minor": 5
}

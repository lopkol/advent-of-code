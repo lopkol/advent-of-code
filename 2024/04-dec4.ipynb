{
 "cells": [
  {
   "cell_type": "markdown",
   "id": "3455d4de-76c0-4f9e-a77b-bec7583c7353",
   "metadata": {},
   "source": [
    "## Problem 1"
   ]
  },
  {
   "cell_type": "markdown",
   "id": "1d61bdfd-ec08-40d1-b038-b40308da17c8",
   "metadata": {},
   "source": [
    "### With numpy :D"
   ]
  },
  {
   "cell_type": "code",
   "execution_count": 36,
   "id": "2c029c9a-88b8-4fe8-9e7c-7786a27a15fd",
   "metadata": {},
   "outputs": [],
   "source": [
    "import numpy as np"
   ]
  },
  {
   "cell_type": "code",
   "execution_count": 71,
   "id": "843b1cb0-e69a-441a-938d-60167e191758",
   "metadata": {},
   "outputs": [],
   "source": [
    "def read_input(filename):\n",
    "    f = open(f'../inputs/{filename}.txt', 'r')\n",
    "    mtx = []\n",
    "    while True:\n",
    "        line = f.readline()\n",
    "        if line == \"\":\n",
    "            break\n",
    "        mtx.append(list(line.rstrip('\\n')))\n",
    "    f.close()\n",
    "    return mtx"
   ]
  },
  {
   "cell_type": "code",
   "execution_count": 111,
   "id": "366a5c64-9ca5-4811-9484-e133addf66ba",
   "metadata": {},
   "outputs": [],
   "source": [
    "# arr numpy array, word is a string\n",
    "def count_word_in_line(arr, word):\n",
    "    word_as_arr = np.array(list(word))\n",
    "    possibles = np.where(arr == word[0])[0]\n",
    "    count = 0\n",
    "    for p in possibles:\n",
    "        check = arr[p:p+len(word)]\n",
    "        if len(check) == len(word) and np.all(check == word_as_arr):\n",
    "            count += 1\n",
    "    return count\n",
    "\n",
    "def count_word_along_axis(mtx, word, axis=0):\n",
    "    counts = np.apply_along_axis(count_word_in_line, axis, mtx, word)\n",
    "    return counts.sum()\n",
    "\n",
    "def count_word_in_diagonal(mtx, word, anti_diag=False):\n",
    "    mat = mtx\n",
    "    if anti_diag:\n",
    "        mat = np.fliplr(mtx)\n",
    "\n",
    "    count = 0\n",
    "    (rows, columns) = mat.shape\n",
    "    for i in range(1-rows, columns-1):\n",
    "        count += count_word_in_line(np.diagonal(mat, i), word)\n",
    "    return count"
   ]
  },
  {
   "cell_type": "code",
   "execution_count": 112,
   "id": "819afdc4-cd8f-46ad-b498-fc76ecf4dde5",
   "metadata": {},
   "outputs": [],
   "source": [
    "def solve1(input_filename):\n",
    "    mtx = np.array(read_input(input_filename))\n",
    "    count = 0\n",
    "    for word in ['XMAS', 'SAMX']:\n",
    "        count += count_word_along_axis(mtx, word, 0)\n",
    "        count += count_word_along_axis(mtx, word, 1)\n",
    "        count += count_word_in_diagonal(mtx, word, False)\n",
    "        count += count_word_in_diagonal(mtx, word, True)\n",
    "    return count"
   ]
  },
  {
   "cell_type": "markdown",
   "id": "65070aa0-1dcd-4bbd-8285-9362a3999e58",
   "metadata": {},
   "source": [
    "### Without numpy"
   ]
  },
  {
   "cell_type": "code",
   "execution_count": 127,
   "id": "34d12f7a-e3cf-4598-9f0c-8a75b2769dc6",
   "metadata": {},
   "outputs": [],
   "source": [
    "def read_input(filename):\n",
    "    f = open(f'../inputs/{filename}.txt', 'r')\n",
    "    mtx = []\n",
    "    while True:\n",
    "        line = f.readline()\n",
    "        if line == \"\":\n",
    "            break\n",
    "        mtx.append(list(line.rstrip('\\n')))\n",
    "    f.close()\n",
    "    return mtx"
   ]
  },
  {
   "cell_type": "code",
   "execution_count": 123,
   "id": "e1a76256-7d2d-44af-ac36-edda90c621b4",
   "metadata": {},
   "outputs": [],
   "source": [
    "directions = [(1, 1), (1, 0), (1, -1), (0, -1), (-1, -1), (-1, 0), (-1, 1), (0, 1)]\n",
    "\n",
    "def count_word_from_pos(mtx, word, i, j):\n",
    "    if (mtx[i][j] != word[0]):\n",
    "        return 0\n",
    "\n",
    "    n = len(mtx)\n",
    "    m = len(mtx[0])\n",
    "    counter = 0\n",
    "    for (x, y) in directions:\n",
    "        k = 1\n",
    "        while k < len(word) and 0 <= i + k*x < n and 0 <= j + k*y < m and mtx[i + k*x][j + k*y] == word[k]:\n",
    "            k += 1\n",
    "        if k == len(word):\n",
    "            counter += 1\n",
    "    return counter"
   ]
  },
  {
   "cell_type": "code",
   "execution_count": 126,
   "id": "f0860e01-8ad1-43b2-9bec-203310191d5e",
   "metadata": {},
   "outputs": [],
   "source": [
    "def solve1_alt(input_filename, word):\n",
    "    mtx = read_input(input_filename)\n",
    "\n",
    "    counter = 0\n",
    "    n = len(mtx)\n",
    "    m = len(mtx[0])\n",
    "    for i in range(n):\n",
    "        for j in range(m):\n",
    "            counter += count_word_from_pos(mtx, word, i, j)\n",
    "    return counter"
   ]
  },
  {
   "cell_type": "markdown",
   "id": "388c56da-dc9f-4b54-ac79-b5a8ad6fad6b",
   "metadata": {},
   "source": [
    "## Problem 2"
   ]
  },
  {
   "cell_type": "code",
   "execution_count": 129,
   "id": "1646a0f7-a406-4131-a1b7-5a43eb184462",
   "metadata": {},
   "outputs": [],
   "source": [
    "def check_position(mtx, i, j):\n",
    "    if mtx[i][j] == 'A' and (mtx[i-1][j-1], mtx[i-1][j+1], mtx[i+1][j+1], mtx[i+1][j-1]) in [\n",
    "        ('M', 'M', 'S', 'S'), ('S', 'M', 'M', 'S'), ('S', 'S', 'M', 'M'), ('M', 'S', 'S', 'M')\n",
    "    ]:\n",
    "        return 1\n",
    "    return 0"
   ]
  },
  {
   "cell_type": "code",
   "execution_count": 128,
   "id": "e13dee4f-a6dc-4bab-934b-6b265782e3d0",
   "metadata": {},
   "outputs": [],
   "source": [
    "def solve2(input_filename):\n",
    "    mtx = read_input(input_filename)\n",
    "\n",
    "    counter = 0\n",
    "    n = len(mtx)\n",
    "    m = len(mtx[0])\n",
    "    for i in range(n):\n",
    "        if i in [0, n-1]:\n",
    "            continue;\n",
    "        for j in range(m):\n",
    "            if j in [0, m-1]:\n",
    "                continue;\n",
    "            counter += check_position(mtx, i, j)\n",
    "    return counter"
   ]
  }
 ],
 "metadata": {
  "kernelspec": {
   "display_name": "Python 3 (ipykernel)",
   "language": "python",
   "name": "python3"
  },
  "language_info": {
   "codemirror_mode": {
    "name": "ipython",
    "version": 3
   },
   "file_extension": ".py",
   "mimetype": "text/x-python",
   "name": "python",
   "nbconvert_exporter": "python",
   "pygments_lexer": "ipython3",
   "version": "3.10.12"
  }
 },
 "nbformat": 4,
 "nbformat_minor": 5
}

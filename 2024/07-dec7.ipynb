{
 "cells": [
  {
   "cell_type": "markdown",
   "id": "3cbc1da7-c65b-435d-aa4a-e788746d90b3",
   "metadata": {},
   "source": [
    "## Problem 1"
   ]
  },
  {
   "cell_type": "code",
   "execution_count": 42,
   "id": "3fac24f9-bc4f-4bfa-90d6-fc3641bf622b",
   "metadata": {},
   "outputs": [],
   "source": [
    "def calculate_res(partial_results, current_operators, num):\n",
    "    if current_operators == '':\n",
    "        return num\n",
    "    if current_operators[-1] == '+':\n",
    "        return partial_results[current_operators[:-1]] + num\n",
    "    elif current_operators[-1] == '*':\n",
    "        return partial_results[current_operators[:-1]] * num\n",
    "\n",
    "def dfs(result, numbers, partial_results, current_operators):\n",
    "    partial_results[current_operators] = calculate_res(partial_results, current_operators, numbers[len(current_operators)])\n",
    "    if len(current_operators) == len(numbers)-1 and partial_results[current_operators] == result:\n",
    "        return True\n",
    "    if len(current_operators) < len(numbers)-1:\n",
    "        for next_op in ['+', '*']:\n",
    "            res = dfs(result, numbers, partial_results, current_operators + next_op)\n",
    "            if res == True:\n",
    "                return True\n",
    "\n",
    "def can_solve(result, numbers):\n",
    "    partial_results = {}\n",
    "    res = dfs(result, numbers, partial_results, '')\n",
    "    return res == True"
   ]
  },
  {
   "cell_type": "code",
   "execution_count": 51,
   "id": "3415dd18-b61f-44a3-bea3-3788c356d124",
   "metadata": {},
   "outputs": [],
   "source": [
    "def convert_input_line(line):\n",
    "    arr = line.split(':')\n",
    "    result = int(arr[0])\n",
    "    numbers = []\n",
    "    for num_str in arr[1].split():\n",
    "        numbers.append(int(num_str))\n",
    "    return (result, numbers)\n",
    "\n",
    "def solve1(input_filename):\n",
    "    f = open(f'../inputs/{input_filename}.txt', 'r')\n",
    "\n",
    "    count = 0\n",
    "    while True:\n",
    "        line = f.readline()\n",
    "        if line == '':\n",
    "            break\n",
    "        (result, numbers) = convert_input_line(line)\n",
    "        if can_solve(result, numbers):\n",
    "            count += result\n",
    "    f.close()\n",
    "    return count"
   ]
  },
  {
   "cell_type": "markdown",
   "id": "33141792-f7f3-4882-a6c6-8268b1a76a3c",
   "metadata": {},
   "source": [
    "### Also works with this"
   ]
  },
  {
   "cell_type": "code",
   "execution_count": null,
   "id": "5a3bff8e-bd4b-4d75-aaa7-cb82c449d3d9",
   "metadata": {},
   "outputs": [],
   "source": [
    "def is_equal(result, numbers, operators):\n",
    "    res = numbers[0]\n",
    "    for i in range(len(operators)):\n",
    "        if operators[i] == '+':\n",
    "            res += numbers[i+1]\n",
    "        elif operators[i] == '*':\n",
    "            res *= numbers[i+1]\n",
    "    return res == result\n",
    "\n",
    "def all_operator_seq(length):\n",
    "    if length == 0:\n",
    "        return ['']\n",
    "    shorter_seq = all_operator_seq(length-1)\n",
    "    seq = []\n",
    "    for s in shorter_seq:\n",
    "        seq.append(s + '+')\n",
    "        seq.append(s + '*')\n",
    "    return seq\n",
    "\n",
    "def can_solve_alt(result, numbers):\n",
    "    for operators in all_operator_seq(len(numbers)-1):\n",
    "        if is_equal(result, numbers, operators):\n",
    "            return True\n",
    "    return False"
   ]
  },
  {
   "cell_type": "markdown",
   "id": "6811c516-2987-4f1d-b018-2e3399b40a16",
   "metadata": {},
   "source": [
    "## Problem 2"
   ]
  },
  {
   "cell_type": "code",
   "execution_count": 47,
   "id": "b5c41aa8-58ae-474a-9ec4-8daad779c778",
   "metadata": {},
   "outputs": [],
   "source": [
    "def apply_operator(num1, num2, op):\n",
    "    if op == '+':\n",
    "        return num1 + num2\n",
    "    if op == '*':\n",
    "        return num1 * num2\n",
    "    if op == '|':\n",
    "        return int(str(num1) + str(num2))\n",
    "    raise Exception(f'Unknown operator: {op}')\n",
    "\n",
    "def calculate_res2(partial_results, current_operators, num):\n",
    "    if current_operators == '':\n",
    "        return num\n",
    "    return apply_operator(partial_results[current_operators[:-1]], num, current_operators[-1])\n",
    "\n",
    "def dfs2(result, numbers, partial_results, current_operators):\n",
    "    partial_results[current_operators] = calculate_res2(partial_results, current_operators, numbers[len(current_operators)])\n",
    "    if len(current_operators) == len(numbers)-1 and partial_results[current_operators] == result:\n",
    "        return True\n",
    "    if len(current_operators) < len(numbers)-1:\n",
    "        for next_op in ['+', '*', '|']:\n",
    "            res = dfs2(result, numbers, partial_results, current_operators + next_op)\n",
    "            if res == True:\n",
    "                return True\n",
    "\n",
    "def can_solve2(result, numbers):\n",
    "    partial_results = {}\n",
    "    res = dfs2(result, numbers, partial_results, '')\n",
    "    return res == True"
   ]
  },
  {
   "cell_type": "code",
   "execution_count": 48,
   "id": "a57494bd-ad98-48bd-8624-484b6bf84cfe",
   "metadata": {},
   "outputs": [],
   "source": [
    "def solve2(input_filename):\n",
    "    f = open(f'../inputs/{input_filename}.txt', 'r')\n",
    "\n",
    "    count = 0\n",
    "    while True:\n",
    "        line = f.readline()\n",
    "        if line == '':\n",
    "            break\n",
    "        (result, numbers) = convert_input_line(line)\n",
    "        if can_solve2(result, numbers):\n",
    "            count += result\n",
    "    f.close()\n",
    "    return count"
   ]
  }
 ],
 "metadata": {
  "kernelspec": {
   "display_name": "Python 3 (ipykernel)",
   "language": "python",
   "name": "python3"
  },
  "language_info": {
   "codemirror_mode": {
    "name": "ipython",
    "version": 3
   },
   "file_extension": ".py",
   "mimetype": "text/x-python",
   "name": "python",
   "nbconvert_exporter": "python",
   "pygments_lexer": "ipython3",
   "version": "3.10.12"
  }
 },
 "nbformat": 4,
 "nbformat_minor": 5
}

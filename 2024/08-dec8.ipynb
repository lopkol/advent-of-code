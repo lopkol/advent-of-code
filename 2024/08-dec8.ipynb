{
 "cells": [
  {
   "cell_type": "markdown",
   "id": "fc0ac7c9-b307-404c-b62b-a35444dece52",
   "metadata": {},
   "source": [
    "## Problem 1"
   ]
  },
  {
   "cell_type": "code",
   "execution_count": 4,
   "id": "c44b746e-4ceb-4fed-b3c8-cdd9c8d9e257",
   "metadata": {},
   "outputs": [],
   "source": [
    "def read_input(filename):\n",
    "    f = open(f'../inputs/{filename}.txt', 'r')\n",
    "\n",
    "    n, m, i = 0, 0, 0\n",
    "    antenna_loc = {}\n",
    "    while True:\n",
    "        line = f.readline()\n",
    "        if line == '':\n",
    "            n = i\n",
    "            break\n",
    "        if i == 0:\n",
    "            m = len(line.strip())\n",
    "        for j in range(m):\n",
    "            ch = line[j]\n",
    "            if ch == '.':\n",
    "                continue\n",
    "            if ch not in antenna_loc:\n",
    "                antenna_loc[ch] = []\n",
    "            antenna_loc[ch].append((i,j))\n",
    "        i += 1\n",
    "\n",
    "    f.close()\n",
    "    return (n, m, antenna_loc)"
   ]
  },
  {
   "cell_type": "code",
   "execution_count": 14,
   "id": "14fd203b-60b1-43e3-b2ab-8f2be94c49e8",
   "metadata": {},
   "outputs": [],
   "source": [
    "# a, b antenna locations\n",
    "def calc_antinodes(n, m, a, b):\n",
    "    antinodes = [\n",
    "        (2*a[0]-b[0], 2*a[1]-b[1]),\n",
    "        (2*b[0]-a[0], 2*b[1]-a[1])\n",
    "    ]\n",
    "    antinodes_in_map = filter(lambda x: x[0] >= 0 and x[0] < n and x[1] >=0  and x[1] < m, antinodes)\n",
    "    return list(antinodes_in_map)"
   ]
  },
  {
   "cell_type": "code",
   "execution_count": 18,
   "id": "301c28dc-c1ef-42df-99be-7f19bc8c9873",
   "metadata": {},
   "outputs": [],
   "source": [
    "def solve1(input_filename):\n",
    "    (n, m, antenna_loc) = read_input(input_filename)\n",
    "    antinodes = {}\n",
    "    for char in antenna_loc:\n",
    "        if len(antenna_loc[char]) <= 1:\n",
    "            continue\n",
    "        for i in range(len(antenna_loc[char])-1):\n",
    "            for j in range(i+1, len(antenna_loc[char])):\n",
    "                anti = calc_antinodes(n, m, antenna_loc[char][i], antenna_loc[char][j])\n",
    "                for x in anti:\n",
    "                    antinodes[x] = True\n",
    "    return len(antinodes)"
   ]
  },
  {
   "cell_type": "markdown",
   "id": "bfd299f9-28cb-4143-8199-3c9731766c2a",
   "metadata": {},
   "source": [
    "## Problem 2"
   ]
  },
  {
   "cell_type": "code",
   "execution_count": 19,
   "id": "d3720aba-c415-4c97-a092-446f2a169cb2",
   "metadata": {},
   "outputs": [],
   "source": [
    "import math\n",
    "\n",
    "def calc_antinodes2(n, m, a, b):\n",
    "    if a == b:\n",
    "        raise Exception('a and b should not be equal')\n",
    "    x, y = a[0]-b[0], a[1]-b[1]\n",
    "    gcd = math.gcd(x,y)\n",
    "    v_x, v_y = x/gcd, y/gcd\n",
    "    antinodes = []\n",
    "    a_tr = a\n",
    "    while a_tr[0] >= 0 and a_tr[0] < n and a_tr[1] >= 0 and a_tr[1] < m:\n",
    "        antinodes.append(a_tr)\n",
    "        a_tr = (a_tr[0] + v_x, a_tr[1] + v_y)\n",
    "    a_tr = (a[0] - v_x, a[1] - v_y)\n",
    "    while a_tr[0] >= 0 and a_tr[0] < n and a_tr[1] >= 0 and a_tr[1] < m:\n",
    "        antinodes.append(a_tr)\n",
    "        a_tr = (a_tr[0] - v_x, a_tr[1] - v_y)\n",
    "    return antinodes"
   ]
  },
  {
   "cell_type": "code",
   "execution_count": 20,
   "id": "a5675fc7-f914-4891-9b88-403c6829e88d",
   "metadata": {},
   "outputs": [],
   "source": [
    "def solve2(input_filename):\n",
    "    (n, m, antenna_loc) = read_input(input_filename)\n",
    "    antinodes = {}\n",
    "    for char in antenna_loc:\n",
    "        if len(antenna_loc[char]) <= 1:\n",
    "            continue\n",
    "        for i in range(len(antenna_loc[char])-1):\n",
    "            for j in range(i+1, len(antenna_loc[char])):\n",
    "                anti = calc_antinodes2(n, m, antenna_loc[char][i], antenna_loc[char][j])\n",
    "                for x in anti:\n",
    "                    antinodes[x] = True\n",
    "    return len(antinodes)"
   ]
  }
 ],
 "metadata": {
  "kernelspec": {
   "display_name": "Python 3 (ipykernel)",
   "language": "python",
   "name": "python3"
  },
  "language_info": {
   "codemirror_mode": {
    "name": "ipython",
    "version": 3
   },
   "file_extension": ".py",
   "mimetype": "text/x-python",
   "name": "python",
   "nbconvert_exporter": "python",
   "pygments_lexer": "ipython3",
   "version": "3.10.12"
  }
 },
 "nbformat": 4,
 "nbformat_minor": 5
}

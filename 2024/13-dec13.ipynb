{
 "cells": [
  {
   "cell_type": "markdown",
   "id": "42c46d6b-a212-4f43-8d11-c1a9480d769d",
   "metadata": {},
   "source": [
    "## Problem 1"
   ]
  },
  {
   "cell_type": "code",
   "execution_count": 3,
   "id": "d43fd8c8-acbf-4d28-8c2d-a5e2b48c3b6f",
   "metadata": {},
   "outputs": [],
   "source": [
    "from scipy.optimize import linprog"
   ]
  },
  {
   "cell_type": "code",
   "execution_count": 4,
   "id": "459690f7-4adf-4fd6-b036-5694c58bd897",
   "metadata": {},
   "outputs": [],
   "source": [
    "def nums_from_button_line(line):\n",
    "    x = line[10:].split(', ')\n",
    "    return (int(x[0][2:]), int(x[1][2:]))\n",
    "\n",
    "def nums_from_prize_line(line):\n",
    "    x = line[7:].split(', ')\n",
    "    return (int(x[0][2:]), int(x[1][2:]))"
   ]
  },
  {
   "cell_type": "code",
   "execution_count": 14,
   "id": "3c139dad-e28b-4b6b-9fdf-75620811154b",
   "metadata": {},
   "outputs": [],
   "source": [
    "def solve1(input_filename):\n",
    "    f = open(f'../inputs/{input_filename}.txt', 'r')\n",
    "\n",
    "    tokens = 0\n",
    "    while True:\n",
    "        line_A = f.readline()\n",
    "        line_B = f.readline()\n",
    "        line_prize = f.readline()\n",
    "        f.readline()\n",
    "\n",
    "        if line_A == '':\n",
    "            break\n",
    "        (a1, a2) = nums_from_button_line(line_A)\n",
    "        (b1, b2) = nums_from_button_line(line_B)\n",
    "        (p1, p2) = nums_from_prize_line(line_prize)\n",
    "\n",
    "        res = linprog(c=[3, 1], A_eq=[[a1, b1], [a2, b2]], b_eq=[p1, p2], bounds=(0, 100), integrality=1)\n",
    "        if res.status == 2:\n",
    "            continue\n",
    "        if res.status != 0:\n",
    "            print(a1, a2, b1, b2, p1, p2)\n",
    "            raise Exception('Unknown error!')\n",
    "        tokens += int(res.mip_dual_bound)\n",
    "    f.close()\n",
    "    return tokens"
   ]
  },
  {
   "cell_type": "markdown",
   "id": "d8042ea8-6d12-4bd6-9c0f-d4de0918ad08",
   "metadata": {},
   "source": [
    "## Problem 2"
   ]
  },
  {
   "cell_type": "markdown",
   "id": "0f640368-7c1d-4741-9adf-fee46076510a",
   "metadata": {},
   "source": [
    "### Bad solution"
   ]
  },
  {
   "cell_type": "markdown",
   "id": "744df98f-8b28-4712-8766-23217dae961a",
   "metadata": {},
   "source": [
    "This is the same as before, but here it's not giving the correct answer:"
   ]
  },
  {
   "cell_type": "code",
   "execution_count": 47,
   "id": "85c26dc6-6d5f-4764-a09f-74e07d939bac",
   "metadata": {},
   "outputs": [],
   "source": [
    "# Not working, I don't understand why :/\n",
    "def solve2(input_filename):\n",
    "    f = open(f'../inputs/{input_filename}.txt', 'r')\n",
    "    big_number = 10000000000000\n",
    "\n",
    "    tokens = 0\n",
    "    while True:\n",
    "        line_A = f.readline()\n",
    "        line_B = f.readline()\n",
    "        line_prize = f.readline()\n",
    "        f.readline()\n",
    "\n",
    "        if line_A == '':\n",
    "            break\n",
    "        (a1, a2) = nums_from_button_line(line_A)\n",
    "        (b1, b2) = nums_from_button_line(line_B)\n",
    "        (p1, p2) = nums_from_prize_line(line_prize)\n",
    "\n",
    "        res = linprog(c=[3, 1], A_eq=[[a1, b1], [a2, b2]], b_eq=[big_number+p1, big_number+p2], bounds=(0, None), integrality=1)\n",
    "        if res.status == 2:\n",
    "            continue\n",
    "        if res.status != 0:\n",
    "            print(a1, a2, b1, b2, p1, p2)\n",
    "            raise Exception('This should not happen!')\n",
    "        tokens += int(res.mip_dual_bound)\n",
    "    f.close()\n",
    "    return tokens"
   ]
  },
  {
   "cell_type": "markdown",
   "id": "57a05aa7-6d25-435f-8a8e-6c4ee2f89a55",
   "metadata": {},
   "source": [
    "### Good solution"
   ]
  },
  {
   "cell_type": "code",
   "execution_count": 1,
   "id": "0b9232dc-74bb-4d5a-bab2-0efd6154fbe5",
   "metadata": {},
   "outputs": [],
   "source": [
    "import numpy as np"
   ]
  },
  {
   "cell_type": "code",
   "execution_count": 50,
   "id": "fdbc3fa1-159b-430c-b0fb-1f96de4d2a87",
   "metadata": {},
   "outputs": [],
   "source": [
    "def check_solution(x, A, p):\n",
    "    return np.all(p == np.matmul(A, x))\n",
    "\n",
    "def solve2(input_filename):\n",
    "    f = open(f'../inputs/{input_filename}.txt', 'r')\n",
    "    big_num = 10000000000000\n",
    "    tokens = 0\n",
    "\n",
    "    while True:\n",
    "        line_A = f.readline()\n",
    "        line_B = f.readline()\n",
    "        line_prize = f.readline()\n",
    "        f.readline()\n",
    "\n",
    "        if line_A == '':\n",
    "            break\n",
    "        (a1, a2) = nums_from_button_line(line_A)\n",
    "        (b1, b2) = nums_from_button_line(line_B)\n",
    "        (p1, p2) = nums_from_prize_line(line_prize)\n",
    "\n",
    "        A = np.array([[a1, b1], [a2, b2]])\n",
    "        p =  np.array([p1+big_num, p2+big_num])\n",
    "\n",
    "        res = np.linalg.solve(A, p)\n",
    "        x = np.rint(res)\n",
    "        if np.any(x < 0) or not check_solution(x, A, p):\n",
    "            continue\n",
    "        tokens += 3*x[0] + x[1]\n",
    "    f.close()\n",
    "    return tokens"
   ]
  }
 ],
 "metadata": {
  "kernelspec": {
   "display_name": "Python 3 (ipykernel)",
   "language": "python",
   "name": "python3"
  },
  "language_info": {
   "codemirror_mode": {
    "name": "ipython",
    "version": 3
   },
   "file_extension": ".py",
   "mimetype": "text/x-python",
   "name": "python",
   "nbconvert_exporter": "python",
   "pygments_lexer": "ipython3",
   "version": "3.10.12"
  }
 },
 "nbformat": 4,
 "nbformat_minor": 5
}

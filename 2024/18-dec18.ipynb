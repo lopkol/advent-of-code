{
 "cells": [
  {
   "cell_type": "code",
   "execution_count": 9,
   "id": "98d5cb23-f4b3-4daa-b019-810eaba550e2",
   "metadata": {},
   "outputs": [],
   "source": [
    "def read_input(filename):\n",
    "    f = open(f'../inputs/{filename}.txt', 'r')\n",
    "\n",
    "    byte_list = []\n",
    "    while True:\n",
    "        line = f.readline()\n",
    "        if line == '':\n",
    "            break\n",
    "        str_numbers = line.split(',')\n",
    "        byte_list.append((int(str_numbers[0]), int(str_numbers[1])))\n",
    "\n",
    "    f.close()\n",
    "    return byte_list"
   ]
  },
  {
   "cell_type": "code",
   "execution_count": 4,
   "id": "bfa07138-f83a-416e-921a-3a340a5c18fa",
   "metadata": {},
   "outputs": [],
   "source": [
    "def is_byte_free(i,j, n, corrupted_set):\n",
    "    if i < 0 or i >= n or j < 0 or j >= n or (i,j) in corrupted_set:\n",
    "        return False\n",
    "    return True"
   ]
  },
  {
   "cell_type": "code",
   "execution_count": 5,
   "id": "3de51554-2b8d-4409-bf68-99ad323be880",
   "metadata": {},
   "outputs": [],
   "source": [
    "neighbors = [(0, 1), (1, 0), (0, -1), (-1, 0)]"
   ]
  },
  {
   "cell_type": "code",
   "execution_count": 34,
   "id": "36f26b70-bd27-49ac-b7c7-27dbc1c12264",
   "metadata": {},
   "outputs": [],
   "source": [
    "import math\n",
    "from queue import PriorityQueue\n",
    "\n",
    "def find_shortest_path(n, corrupted):\n",
    "    start = (0, 0)\n",
    "    end = (n-1, n-1)\n",
    "    distances = {}\n",
    "    for i in range(n):\n",
    "        for j in range(n):\n",
    "            if is_byte_free(i, j, n, corrupted):\n",
    "                distances[(i,j)] = math.inf\n",
    "    distances[start] = 0\n",
    "    dist_pq = PriorityQueue()\n",
    "    dist_pq.put((0, start))\n",
    "    visited = set()\n",
    "\n",
    "    while not dist_pq.empty():\n",
    "        current = dist_pq.get()\n",
    "        while current[1] in visited and not dist_pq.empty():\n",
    "            current = dist_pq.get()\n",
    "        if current[1] in visited:\n",
    "            # all finite distance nodes are visited => no path to end\n",
    "            return False\n",
    "\n",
    "        (d, (x, y)) = current\n",
    "        # if this is the end, we found the shortest path\n",
    "        if (x, y) == end:\n",
    "            return d\n",
    "\n",
    "        # for all neighbors of current, update distance\n",
    "        for v in neighbors:\n",
    "            x_new, y_new = x + v[0], y + v[1]\n",
    "            if is_byte_free(x_new, y_new, n, corrupted) and d + 1 < distances[(x_new, y_new)]:\n",
    "                distances[(x_new, y_new)] = d + 1\n",
    "                dist_pq.put((d + 1, (x_new, y_new)))\n",
    "        visited.add((x, y))\n",
    "    return False"
   ]
  },
  {
   "cell_type": "code",
   "execution_count": 29,
   "id": "e1d6788e-bd6e-4f98-a71a-dc55a2c0d46e",
   "metadata": {},
   "outputs": [],
   "source": [
    "def solve1(input_filename):\n",
    "    n = 7 if input_filename == 'test18' else 71\n",
    "    bytes_to_read = 12 if input_filename == 'test18' else 1024\n",
    "    byte_list = read_input(input_filename)\n",
    "    corrupted = set(byte_list[:bytes_to_read])\n",
    "\n",
    "    return find_shortest_path(n, corrupted)"
   ]
  },
  {
   "cell_type": "markdown",
   "id": "bf8cf32a-afbe-47c1-9e17-020473f16b34",
   "metadata": {},
   "source": [
    "## Problem 2"
   ]
  },
  {
   "cell_type": "code",
   "execution_count": 48,
   "id": "c14b03d6-ce8c-4035-b9e2-ecb8f352dd7b",
   "metadata": {},
   "outputs": [],
   "source": [
    "# Slow but works :D Binary search would have been faster but too lazy to write it\n",
    "def solve2(input_filename):\n",
    "    n = 7 if input_filename == 'test18' else 71\n",
    "    bytes_to_read = 12 if input_filename == 'test18' else 1024\n",
    "    byte_list = read_input(input_filename)\n",
    "\n",
    "    i = bytes_to_read\n",
    "    res = 1\n",
    "    while res != False:\n",
    "        i += 1\n",
    "        res = find_shortest_path(n, set(byte_list[:i+1]))\n",
    "    return byte_list[i]"
   ]
  }
 ],
 "metadata": {
  "kernelspec": {
   "display_name": "Python 3 (ipykernel)",
   "language": "python",
   "name": "python3"
  },
  "language_info": {
   "codemirror_mode": {
    "name": "ipython",
    "version": 3
   },
   "file_extension": ".py",
   "mimetype": "text/x-python",
   "name": "python",
   "nbconvert_exporter": "python",
   "pygments_lexer": "ipython3",
   "version": "3.10.12"
  }
 },
 "nbformat": 4,
 "nbformat_minor": 5
}

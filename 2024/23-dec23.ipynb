{
 "cells": [
  {
   "cell_type": "markdown",
   "id": "122e9361-bdb0-4939-9670-0f010cdff276",
   "metadata": {},
   "source": [
    "## Problem 1"
   ]
  },
  {
   "cell_type": "code",
   "execution_count": 11,
   "id": "2c5c0b28-b0d0-4234-b223-e4a18ce8f388",
   "metadata": {},
   "outputs": [],
   "source": [
    "def read_input(filename):\n",
    "    f = open(f'../inputs/{filename}.txt', 'r')\n",
    "\n",
    "    graph = {}\n",
    "    while True:\n",
    "        line = f.readline()\n",
    "        if line == '':\n",
    "            break\n",
    "        nodes = [line[:2], line[3:5]]\n",
    "        nodes.sort()\n",
    "        [x, y] = nodes\n",
    "        if x not in graph:\n",
    "            graph[x] = set()\n",
    "        graph[x].add(y)\n",
    "\n",
    "    f.close()\n",
    "    return graph"
   ]
  },
  {
   "cell_type": "code",
   "execution_count": 16,
   "id": "02830884-3ed8-4ed6-a995-e67560646274",
   "metadata": {},
   "outputs": [],
   "source": [
    "def solve1(input_filename):\n",
    "    graph = read_input(input_filename)\n",
    "\n",
    "    count = 0\n",
    "    for x in graph:\n",
    "        neighbors = list(graph[x])\n",
    "        for i in range(len(neighbors)):\n",
    "            for j in range(i+1, len(neighbors)):\n",
    "                y, z = neighbors[i], neighbors[j]\n",
    "                if ((y in graph and z in graph[y]) or (z in graph and y in graph[z])) and \\\n",
    "                   (x.startswith('t') or y.startswith('t') or z.startswith('t')):\n",
    "                    count += 1\n",
    "                    \n",
    "    return count               "
   ]
  },
  {
   "cell_type": "markdown",
   "id": "fefb3486-df01-43c6-9937-89ee854472e2",
   "metadata": {},
   "source": [
    "## Problem 2"
   ]
  },
  {
   "cell_type": "code",
   "execution_count": 21,
   "id": "6881bc79-497c-4f22-961e-44d4c962605f",
   "metadata": {},
   "outputs": [],
   "source": [
    "def read_input2(filename):\n",
    "    f = open(f'../inputs/{filename}.txt', 'r')\n",
    "\n",
    "    graph = {}\n",
    "    while True:\n",
    "        line = f.readline()\n",
    "        if line == '':\n",
    "            break\n",
    "        x, y = line[:2], line[3:5]\n",
    "        if x not in graph:\n",
    "            graph[x] = set()\n",
    "        graph[x].add(y)\n",
    "        if y not in graph:\n",
    "            graph[y] = set()\n",
    "        graph[y].add(x)\n",
    "\n",
    "    f.close()\n",
    "    return graph"
   ]
  },
  {
   "cell_type": "code",
   "execution_count": 32,
   "id": "a811fb09-03c4-4a06-914f-c560a594c7d1",
   "metadata": {},
   "outputs": [],
   "source": [
    "def bron_kerbosch(R, P, X, graph, maximal_cliques):\n",
    "    if len(P) == 0 and len(X) == 0:\n",
    "        maximal_cliques.append(sorted(R))\n",
    "\n",
    "    for x in P.union(set()):\n",
    "        bron_kerbosch(R.union(set([x])), P.intersection(graph[x]), X.intersection(graph[x]), graph, maximal_cliques)\n",
    "        P.remove(x)\n",
    "        X.add(x)"
   ]
  },
  {
   "cell_type": "code",
   "execution_count": 33,
   "id": "70882ff1-7653-41c3-9e36-935beddd1afd",
   "metadata": {},
   "outputs": [],
   "source": [
    "def solve2(input_filename):\n",
    "    graph = read_input2(input_filename)\n",
    "\n",
    "    maximal_cliques = []\n",
    "    bron_kerbosch(set(), set(graph.keys()), set(), graph, maximal_cliques)\n",
    "\n",
    "    max_index = 0\n",
    "    max_size = 0\n",
    "    for i in range(len(maximal_cliques)):\n",
    "        cl = maximal_cliques[i]\n",
    "        if len(cl) > max_size:\n",
    "            max_size = len(cl)\n",
    "            max_index = i\n",
    "\n",
    "    return ','.join(maximal_cliques[max_index])"
   ]
  }
 ],
 "metadata": {
  "kernelspec": {
   "display_name": "Python 3 (ipykernel)",
   "language": "python",
   "name": "python3"
  },
  "language_info": {
   "codemirror_mode": {
    "name": "ipython",
    "version": 3
   },
   "file_extension": ".py",
   "mimetype": "text/x-python",
   "name": "python",
   "nbconvert_exporter": "python",
   "pygments_lexer": "ipython3",
   "version": "3.8.10"
  }
 },
 "nbformat": 4,
 "nbformat_minor": 5
}

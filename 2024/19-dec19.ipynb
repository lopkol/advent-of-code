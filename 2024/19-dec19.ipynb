{
 "cells": [
  {
   "cell_type": "code",
   "execution_count": 4,
   "id": "8ca23c60-af29-4765-b236-8e1b84083c2b",
   "metadata": {},
   "outputs": [],
   "source": [
    "def read_input(filename):\n",
    "    f = open(f'../inputs/{filename}.txt', 'r')\n",
    "\n",
    "    towels = set()\n",
    "    maxlength = 0\n",
    "    line = f.readline()\n",
    "    for word in line.split(', '):\n",
    "        towel = word.strip()\n",
    "        if len(towel) > maxlength:\n",
    "            maxlength = len(towel)\n",
    "        towels.add(towel)\n",
    "\n",
    "    f.readline()\n",
    "\n",
    "    designs = []\n",
    "    while True:\n",
    "        line = f.readline()\n",
    "        if line == '':\n",
    "            break\n",
    "        designs.append(line.strip())\n",
    "\n",
    "    f.close()\n",
    "    return (towels, maxlength, designs)"
   ]
  },
  {
   "cell_type": "code",
   "execution_count": 35,
   "id": "46b81de6-180f-4a0f-a232-6c90ded4477b",
   "metadata": {},
   "outputs": [],
   "source": [
    "def design_possible(towels, maxlength, design, possible_designs):\n",
    "    for i in range(len(design)+1):\n",
    "        if design[:i] in possible_designs:\n",
    "            continue\n",
    "        for j in range(max(0, i-maxlength), i):\n",
    "            if design[:j] in possible_designs and design[j:i] in towels:\n",
    "                possible_designs.add(design[:i])\n",
    "                break\n",
    "    return design in possible_designs"
   ]
  },
  {
   "cell_type": "code",
   "execution_count": 38,
   "id": "a2ed9df2-9317-493c-abeb-22d9867c6048",
   "metadata": {},
   "outputs": [],
   "source": [
    "def solve1(input_filename):\n",
    "    (towels, maxlength, designs) = read_input(input_filename)\n",
    "    possible_designs = set(towels)\n",
    "    possible_designs.add('')\n",
    "\n",
    "    count = 0\n",
    "    for design in designs:\n",
    "        if design_possible(towels, maxlength, design, possible_designs):\n",
    "            count += 1\n",
    "\n",
    "    return count"
   ]
  },
  {
   "cell_type": "markdown",
   "id": "46bca4ed-d373-408f-89ad-b3428042d2c5",
   "metadata": {},
   "source": [
    "## Problem 2"
   ]
  },
  {
   "cell_type": "code",
   "execution_count": 6,
   "id": "49239b56-4433-4cf8-a8e7-b357cd4c7037",
   "metadata": {},
   "outputs": [],
   "source": [
    "def count_possible_arrangements(towels, maxlength, design, design_arrangements):\n",
    "    for i in range(len(design)+1):\n",
    "        if design[:i] in design_arrangements:\n",
    "            continue\n",
    "        design_arrangements[design[:i]] = 0\n",
    "        for j in range(max(0, i-maxlength), i):\n",
    "            if design[:j] in design_arrangements and design[j:i] in towels:\n",
    "                design_arrangements[design[:i]] += design_arrangements[design[:j]]\n",
    "    return design_arrangements[design]"
   ]
  },
  {
   "cell_type": "code",
   "execution_count": 9,
   "id": "9b2716fc-06a9-4a49-9d92-648a4be0a25e",
   "metadata": {},
   "outputs": [],
   "source": [
    "def solve2(input_filename):\n",
    "    (towels, maxlength, designs) = read_input(input_filename)\n",
    "    design_arrangements = { '': 1 }\n",
    "\n",
    "    count = 0\n",
    "    for design in designs:\n",
    "        count += count_possible_arrangements(towels, maxlength, design, design_arrangements)\n",
    "\n",
    "    return count"
   ]
  }
 ],
 "metadata": {
  "kernelspec": {
   "display_name": "Python 3 (ipykernel)",
   "language": "python",
   "name": "python3"
  },
  "language_info": {
   "codemirror_mode": {
    "name": "ipython",
    "version": 3
   },
   "file_extension": ".py",
   "mimetype": "text/x-python",
   "name": "python",
   "nbconvert_exporter": "python",
   "pygments_lexer": "ipython3",
   "version": "3.8.10"
  }
 },
 "nbformat": 4,
 "nbformat_minor": 5
}

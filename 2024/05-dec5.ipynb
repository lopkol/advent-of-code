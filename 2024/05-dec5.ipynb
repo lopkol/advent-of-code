{
 "cells": [
  {
   "cell_type": "markdown",
   "id": "9db024c0-b946-4546-8a8a-0306965483e5",
   "metadata": {},
   "source": [
    "## Problem 1"
   ]
  },
  {
   "cell_type": "code",
   "execution_count": 1,
   "id": "9fbbb960-f5fc-4396-b465-80253f3af99d",
   "metadata": {},
   "outputs": [],
   "source": [
    "import math"
   ]
  },
  {
   "cell_type": "code",
   "execution_count": 3,
   "id": "7384788c-995f-44e9-a5b3-7b1eb66c313d",
   "metadata": {},
   "outputs": [],
   "source": [
    "def read_input(filename):\n",
    "    f = open(f'../inputs/{filename}.txt', 'r')\n",
    "\n",
    "    rules = {}\n",
    "    while True:\n",
    "        line = f.readline()\n",
    "        if line == '\\n':\n",
    "            break\n",
    "        nums_str = line.split('|')\n",
    "        nums = [int(nums_str[0]), int(nums_str[1])]\n",
    "        if not nums[0] in rules:\n",
    "            rules[nums[0]] = {}\n",
    "        rules[nums[0]][nums[1]] = True\n",
    "\n",
    "    updates = []\n",
    "    while True:\n",
    "        line = f.readline()\n",
    "        if line == '':\n",
    "            break\n",
    "        nums_str = line.split(',')\n",
    "        nums = []\n",
    "        for i in range(len(nums_str)):\n",
    "            nums.append(int(nums_str[i]))\n",
    "        updates.append(nums)\n",
    "\n",
    "    return (rules, updates)"
   ]
  },
  {
   "cell_type": "code",
   "execution_count": 24,
   "id": "9effbc1e-e98d-4477-8aa9-91095e00a625",
   "metadata": {},
   "outputs": [],
   "source": [
    "# return middle element if yes, 0 otherwise\n",
    "def get_mid_if_correct(update, rules):\n",
    "    n = len(update)\n",
    "    for i in range(n-1):\n",
    "        for j in range(i+1, n):\n",
    "            if update[j] in rules and update[i] in rules[update[j]]:\n",
    "                return 0\n",
    "    return update[math.floor(n/2)]"
   ]
  },
  {
   "cell_type": "code",
   "execution_count": 28,
   "id": "156074d6-b2ef-4fd6-9203-f35dce4dc280",
   "metadata": {},
   "outputs": [],
   "source": [
    "def solve1(input_filename):\n",
    "    (rules, updates) = read_input(input_filename)\n",
    "\n",
    "    res = 0\n",
    "    for upd in updates:\n",
    "        res += get_mid_if_correct(upd, rules)\n",
    "\n",
    "    return res"
   ]
  },
  {
   "cell_type": "markdown",
   "id": "5d8d016a-337a-42a4-aca1-9c3a232d26df",
   "metadata": {},
   "source": [
    "## Problem 2"
   ]
  },
  {
   "cell_type": "code",
   "execution_count": 4,
   "id": "3f372577-49b2-4e98-9f06-65b59e152e6d",
   "metadata": {},
   "outputs": [],
   "source": [
    "def find_greatest_element(update, rules):\n",
    "    n = len(update)\n",
    "    for i in range(n):\n",
    "        if update[i] not in rules:\n",
    "            return update[i]\n",
    "        # check if any element is \"greater\" than update[i], and if yes, it cannot be the greatest\n",
    "        is_greatest = True\n",
    "        for j in range(n):\n",
    "            if update[j] in rules[update[i]]:\n",
    "                is_greatest = False\n",
    "                break\n",
    "        if is_greatest:\n",
    "            return update[i]\n",
    "    raise Exception('No greatest element')\n",
    "\n",
    "def order_and_get_mid_if_incorrect(update, rules):\n",
    "    is_correct = True\n",
    "    n = len(update)\n",
    "    for i in range(n-1):\n",
    "        for j in range(i+1, n):\n",
    "            if update[j] in rules and update[i] in rules[update[j]]:\n",
    "                is_correct = False\n",
    "    if is_correct:\n",
    "        return 0\n",
    "\n",
    "    update_copy = update.copy()\n",
    "    for i in range(math.floor(n/2)):\n",
    "        greatest = find_greatest_element(update_copy, rules)\n",
    "        update_copy.remove(greatest)\n",
    "    \n",
    "    return find_greatest_element(update_copy, rules)"
   ]
  },
  {
   "cell_type": "code",
   "execution_count": 8,
   "id": "bddd6e9e-a74a-4b73-b676-4f56c6bf1601",
   "metadata": {},
   "outputs": [],
   "source": [
    "def solve2(input_filename):\n",
    "    (rules, updates) = read_input(input_filename)\n",
    "\n",
    "    res = 0\n",
    "    for upd in updates:\n",
    "        res += order_and_get_mid_if_incorrect(upd, rules)\n",
    "\n",
    "    return res"
   ]
  }
 ],
 "metadata": {
  "kernelspec": {
   "display_name": "Python 3 (ipykernel)",
   "language": "python",
   "name": "python3"
  },
  "language_info": {
   "codemirror_mode": {
    "name": "ipython",
    "version": 3
   },
   "file_extension": ".py",
   "mimetype": "text/x-python",
   "name": "python",
   "nbconvert_exporter": "python",
   "pygments_lexer": "ipython3",
   "version": "3.8.10"
  }
 },
 "nbformat": 4,
 "nbformat_minor": 5
}

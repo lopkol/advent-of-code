{
 "cells": [
  {
   "cell_type": "markdown",
   "id": "41d842f9-a7a3-40f0-a590-cff28c97aa36",
   "metadata": {},
   "source": [
    "## Problem 1"
   ]
  },
  {
   "cell_type": "code",
   "execution_count": 8,
   "id": "e994ce19-cec7-4770-8dfc-8efcd79e03d9",
   "metadata": {},
   "outputs": [],
   "source": [
    "def is_safe(rep):\n",
    "    if len(rep) <= 1:\n",
    "        return True\n",
    "    inc = rep[0] < rep[1]\n",
    "    i = 1\n",
    "    while i < len(rep):\n",
    "        if (inc and rep[i-1] >= rep[i]) or ((not inc) and rep[i-1] <= rep[i]) or abs(rep[i-1]-rep[i]) > 3:\n",
    "            return False\n",
    "        i += 1\n",
    "    return True"
   ]
  },
  {
   "cell_type": "code",
   "execution_count": 14,
   "id": "b05748cd-384b-48fb-9596-6eb6aac5d4ed",
   "metadata": {},
   "outputs": [],
   "source": [
    "def solve1(input_filename):\n",
    "    f = open(f'../inputs/{input_filename}.txt', 'r')\n",
    "    \n",
    "    safe_counter = 0\n",
    "    while True:\n",
    "        line = f.readline()\n",
    "        if line == \"\":\n",
    "            break\n",
    "        report = []\n",
    "        for level in line.split():\n",
    "            report.append(int(level))\n",
    "        if is_safe(report):\n",
    "            safe_counter += 1\n",
    "    f.close()\n",
    "    return safe_counter"
   ]
  },
  {
   "cell_type": "markdown",
   "id": "daa915a3-1378-47c2-ac84-f10919184390",
   "metadata": {},
   "source": [
    "## Problem 2"
   ]
  },
  {
   "cell_type": "code",
   "execution_count": 11,
   "id": "3d235184-36dd-4a02-b91b-4b02c18323d6",
   "metadata": {},
   "outputs": [],
   "source": [
    "def is_almost_safe(rep):\n",
    "    if len(rep) <= 2:\n",
    "        return True\n",
    "    if len(rep) == 3:\n",
    "        if abs(rep[0]-rep[1]) <= 3 or abs(rep[0]-rep[2]) <= 3 or abs(rep[1]-rep[2]) <= 3:\n",
    "            return True\n",
    "        else:\n",
    "            return False\n",
    "\n",
    "    # length is at least 4, we can figure out if increasing or decreasing\n",
    "    count_inc = (1 if rep[0] < rep[1] else 0) + (1 if rep[1] < rep[2] else 0) + (1 if rep[2] < rep[3] else 0)\n",
    "    inc = count_inc >= 2\n",
    "\n",
    "    # i in wrong_indices means that the step i-1 -> i doesn't follow the rules\n",
    "    wrong_indices = []\n",
    "    i = 1\n",
    "    while i < len(rep):\n",
    "        if (inc and rep[i-1] >= rep[i]) or ((not inc) and rep[i-1] <= rep[i]) or abs(rep[i-1]-rep[i]) > 3:\n",
    "            wrong_indices.append(i)\n",
    "        if len(wrong_indices) > 2 or (len(wrong_indices) == 2 and wrong_indices[0]+1 != wrong_indices[1]):\n",
    "            return False\n",
    "        # For second wrong index, the element in the middle should be removed:\n",
    "        if len(wrong_indices) == 2:\n",
    "            w = wrong_indices[0]\n",
    "            if (inc and rep[w-1] >= rep[w+1]) or ((not inc) and rep[w-1] <= rep[w+1]) or abs(rep[w-1] - rep[w+1]) > 3:\n",
    "                return False\n",
    "        i += 1\n",
    "\n",
    "    if len(wrong_indices) == 1:\n",
    "        w = wrong_indices[0]\n",
    "        if w == 1 or w == len(rep) - 1:\n",
    "            return True\n",
    "        if abs(rep[w-1] - rep[w+1]) <= 3 and ((inc and rep[w-1] < rep[w+1]) or ((not inc) and rep[w-1] > rep[w+1])):\n",
    "            return True\n",
    "        if abs(rep[w-2] - rep[w]) <= 3 and ((inc and rep[w-2] < rep[w]) or ((not inc) and rep[w-2] > rep[w])):\n",
    "            return True\n",
    "        return False\n",
    "    \n",
    "    # For length == 0, it's automatically good, and if length == 2, then we already verified in the while that it's good\n",
    "    return True"
   ]
  },
  {
   "cell_type": "code",
   "execution_count": 15,
   "id": "386863bf-7778-4e2a-803e-53eee62aa5dd",
   "metadata": {},
   "outputs": [],
   "source": [
    "def solve2(input_filename):\n",
    "    f = open(f'../inputs/{input_filename}.txt', 'r')\n",
    "    \n",
    "    safe_counter = 0\n",
    "    while True:\n",
    "        line = f.readline()\n",
    "        if line == \"\":\n",
    "            break\n",
    "        report = []\n",
    "        for level in line.split():\n",
    "            report.append(int(level))\n",
    "        if is_almost_safe(report):\n",
    "            safe_counter += 1\n",
    "    f.close()\n",
    "    return safe_counter"
   ]
  }
 ],
 "metadata": {
  "kernelspec": {
   "display_name": "Python 3 (ipykernel)",
   "language": "python",
   "name": "python3"
  },
  "language_info": {
   "codemirror_mode": {
    "name": "ipython",
    "version": 3
   },
   "file_extension": ".py",
   "mimetype": "text/x-python",
   "name": "python",
   "nbconvert_exporter": "python",
   "pygments_lexer": "ipython3",
   "version": "3.10.12"
  }
 },
 "nbformat": 4,
 "nbformat_minor": 5
}
